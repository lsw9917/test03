{
 "cells": [
  {
   "cell_type": "markdown",
   "id": "3421f51b",
   "metadata": {},
   "source": [
    "## 1번 오늘의 코로나 확진자를 추출하는 코드를 만드시오."
   ]
  },
  {
   "cell_type": "code",
   "execution_count": 22,
   "id": "dfd6b711",
   "metadata": {},
   "outputs": [
    {
     "name": "stdout",
     "output_type": "stream",
     "text": [
      "[오늘의 날씨 정보]\n",
      "오늘날짜 :  2021 년 11 월 1 일 18 시 34 분\n"
     ]
    },
    {
     "ename": "AttributeError",
     "evalue": "'NoneType' object has no attribute 'find'",
     "output_type": "error",
     "traceback": [
      "\u001b[1;31m---------------------------------------------------------------------------\u001b[0m",
      "\u001b[1;31mAttributeError\u001b[0m                            Traceback (most recent call last)",
      "\u001b[1;32m<ipython-input-22-65d9afa01376>\u001b[0m in \u001b[0;36m<module>\u001b[1;34m\u001b[0m\n\u001b[0;32m     13\u001b[0m \u001b[1;33m\u001b[0m\u001b[0m\n\u001b[0;32m     14\u001b[0m \u001b[0mnew\u001b[0m \u001b[1;33m=\u001b[0m \u001b[0msoup\u001b[0m\u001b[1;33m.\u001b[0m\u001b[0mfind\u001b[0m\u001b[1;33m(\u001b[0m\u001b[1;34m'span'\u001b[0m\u001b[1;33m)\u001b[0m\u001b[1;33m.\u001b[0m\u001b[0mfind_all\u001b[0m\u001b[1;33m(\u001b[0m\u001b[1;34m'before'\u001b[0m\u001b[1;33m)\u001b[0m\u001b[1;33m\u001b[0m\u001b[1;33m\u001b[0m\u001b[0m\n\u001b[1;32m---> 15\u001b[1;33m \u001b[0mnum\u001b[0m \u001b[1;33m=\u001b[0m \u001b[0msoup\u001b[0m\u001b[1;33m.\u001b[0m\u001b[0mfind\u001b[0m\u001b[1;33m(\u001b[0m\u001b[1;34m'div'\u001b[0m\u001b[1;33m,\u001b[0m \u001b[1;33m{\u001b[0m\u001b[1;34m'class'\u001b[0m\u001b[1;33m:\u001b[0m \u001b[1;34m'liveNum'\u001b[0m\u001b[1;33m}\u001b[0m\u001b[1;33m)\u001b[0m\u001b[1;33m.\u001b[0m\u001b[0mfind\u001b[0m\u001b[1;33m(\u001b[0m\u001b[1;34m'span'\u001b[0m\u001b[1;33m)\u001b[0m\u001b[1;33m.\u001b[0m\u001b[0mget_text\u001b[0m\u001b[1;33m(\u001b[0m\u001b[1;33m)\u001b[0m\u001b[1;33m\u001b[0m\u001b[1;33m\u001b[0m\u001b[0m\n\u001b[0m\u001b[0;32m     16\u001b[0m \u001b[1;33m\u001b[0m\u001b[0m\n\u001b[0;32m     17\u001b[0m \u001b[0mprint\u001b[0m\u001b[1;33m(\u001b[0m\u001b[1;34m\"[국내 코로나 19확진자 현황]\"\u001b[0m\u001b[1;33m)\u001b[0m\u001b[1;33m\u001b[0m\u001b[1;33m\u001b[0m\u001b[0m\n",
      "\u001b[1;31mAttributeError\u001b[0m: 'NoneType' object has no attribute 'find'"
     ]
    }
   ],
   "source": [
    "from datetime import datetime\n",
    "from urllib.request import urlopen\n",
    "from bs4 import BeautifulSoup\n",
    "\n",
    "now = datetime.now()\n",
    "print(\"[오늘의 날씨 정보]\")\n",
    "print(\"오늘날짜 : \" , now.year , \"년\" , now.month , \"월\" , now.day , \"일\" , now.hour,\n",
    "       \"시\" , now.minute , \"분\")\n",
    "\n",
    "html = urlopen(\"http://ncov.mohw.go.kr/\")\n",
    "soup = BeautifulSoup(html, \"html.parser\")\n",
    "\n",
    "new = soup.find('span').find_all('before')\n",
    "num = soup.find('div', {'class': 'liveNum'}).find('span').get_text()\n",
    "\n",
    "print(\"[국내 코로나 19확진자 현황]\")\n",
    "print(\"* 신규 확진자 : \"+new)\n",
    "print(\"* 누적 확진자 : \"+num)"
   ]
  },
  {
   "cell_type": "markdown",
   "id": "f721248d",
   "metadata": {},
   "source": [
    "## 2번 오늘의 핫토픽을 만드시오."
   ]
  },
  {
   "cell_type": "code",
   "execution_count": 24,
   "id": "137d2bfa",
   "metadata": {},
   "outputs": [
    {
     "ename": "SyntaxError",
     "evalue": "invalid syntax (<ipython-input-24-38c3c07582c9>, line 15)",
     "output_type": "error",
     "traceback": [
      "\u001b[1;36m  File \u001b[1;32m\"<ipython-input-24-38c3c07582c9>\"\u001b[1;36m, line \u001b[1;32m15\u001b[0m\n\u001b[1;33m    for i in soup.find_all('div', {'class': 'list_content'}).find('a',class_='list_title nclicks('RBP.rnknws')')):\u001b[0m\n\u001b[1;37m                                                                                                  ^\u001b[0m\n\u001b[1;31mSyntaxError\u001b[0m\u001b[1;31m:\u001b[0m invalid syntax\n"
     ]
    }
   ],
   "source": [
    "from datetime import datetime\n",
    "from urllib.request import urlopen\n",
    "from bs4 import BeautifulSoup\n",
    "\n",
    "now = datetime.now()\n",
    "\n",
    "\n",
    "html = urlopen(\"https://news.naver.com/main/ranking/popularDay.naver?mid=etc&sid1=111\")\n",
    "soup = BeautifulSoup(html, \"html.parser\")\n",
    "\n",
    "\n",
    "print(\"[#오늘의 #핫토픽 #헤드라인]\")\n",
    "print(\"오늘날짜 : \" , now.year , \"년\" , now.month , \"월\" , now.day , \"일\" , now.hour,\n",
    "       \"시\" , now.minute , \"분\")\n"
   ]
  },
  {
   "cell_type": "markdown",
   "id": "502fcd1e",
   "metadata": {},
   "source": [
    "## 3번 오늘의 날씨를 추출 하시오"
   ]
  },
  {
   "cell_type": "code",
   "execution_count": 17,
   "id": "1fa1c21a",
   "metadata": {},
   "outputs": [
    {
     "name": "stdout",
     "output_type": "stream",
     "text": [
      "[오늘의 날씨 정보]\n",
      "오늘날짜 :  2021 년 11 월 1 일 18 시 26 분\n",
      "서울날씨 : 13℃     흐림\n",
      "안동날씨 : 13℃     구름많음\n"
     ]
    }
   ],
   "source": [
    "from datetime import datetime\n",
    "from urllib.request import urlopen, Request\n",
    "import urllib\n",
    "import bs4\n",
    "\n",
    "now = datetime.now()\n",
    "\n",
    "print(\"[오늘의 날씨 정보]\")\n",
    "print(\"오늘날짜 : \" , now.year , \"년\" , now.month , \"월\" , now.day , \"일\" , now.hour,\n",
    "       \"시\" , now.minute , \"분\")\n",
    "\n",
    "\n",
    "location = '서울'\n",
    "enc_location = urllib.parse.quote(location + '+날씨')\n",
    "url = 'https://search.naver.com/search.naver?ie=utf8&query='+ enc_location\n",
    "req = Request(url)\n",
    "html = urlopen(req).read()\n",
    "soup = bs4.BeautifulSoup(html,'lxml')\n",
    "temps=soup.find('div', class_='temperature_text').find('strong').get_text()\n",
    "tm=temps[5:7]\n",
    "cast = soup.find('div',\"weather_main\").get_text()\n",
    "weather = soup.find('div', {'class': 'weather_info'}).find('span',class_='weather before_slash').get_text()\n",
    "print( location + \"날씨 : \" + tm + \"℃     \" +     weather)\n",
    "\n",
    "location = '안동'\n",
    "enc_location = urllib.parse.quote(location + '+날씨')\n",
    "url = 'https://search.naver.com/search.naver?ie=utf8&query='+ enc_location\n",
    "u_t = 'https://search.naver.com/search.naver?ie=utf8&query='+ tm\n",
    "req = Request(url)\n",
    "html = urlopen(req).read()\n",
    "soup = bs4.BeautifulSoup(html,'lxml')\n",
    "temps=soup.find('div', class_='temperature_text').find('strong').get_text()\n",
    "tm=temps[5:7]\n",
    "cast = soup.find('div',\"weather_main\").get_text()\n",
    "weather = soup.find('div', {'class': 'weather_info'}).find('span',class_='weather before_slash').get_text()\n",
    "print( location + \"날씨 : \" + tm + \"℃     \" +     weather)"
   ]
  },
  {
   "cell_type": "markdown",
   "id": "65a5911d",
   "metadata": {},
   "source": [
    "## 4번 오늘의 음원 Top 10을 찾아주시오."
   ]
  },
  {
   "cell_type": "code",
   "execution_count": 5,
   "id": "2bc20222",
   "metadata": {},
   "outputs": [
    {
     "name": "stdout",
     "output_type": "stream",
     "text": [
      "#오늘의 #음원 #총합 #TOP10\n",
      "1 위 :  strawberry moon   strawberry moon 아이유(IU)  \n",
      "2 위 :  Savage   Savage - The 1st Mini Album aespa  \n",
      "3 위 :  신호등   신호등 이무진  \n",
      "4 위 :  Stay   Stay The Kid LAROI, Justin Bieber  \n",
      "5 위 :  My Universe   My Universe Coldplay, 방탄소년단  \n",
      "6 위 :  Next Level   Next Level aespa  \n",
      "7 위 :  낙하 (with 아이유)   NEXT EPISODE AKMU(악뮤)  \n",
      "8 위 :  Weekend   Weekend 태연 (TAEYEON)  \n",
      "9 위 :  Permission to Dance   Butter / Permission to Dance 방탄소년단  \n",
      "10 위 :  Bad Habits   = Ed Sheeran  \n"
     ]
    }
   ],
   "source": [
    "from datetime import datetime\n",
    "from urllib.request import urlopen, Request\n",
    "import urllib\n",
    "import bs4\n",
    "\n",
    "chart = '음원차트'\n",
    "enc_chart = urllib.parse.quote(chart)\n",
    "url = 'https://search.naver.com/search.naver?ie=utf8&query='+ enc_chart\n",
    "req = Request(url)\n",
    "html = urlopen(req).read()\n",
    "soup = bs4.BeautifulSoup(html,'lxml')\n",
    "      \n",
    "\n",
    "print(\"#오늘의 #음원 #총합 #TOP10\")\n",
    "a=1      \n",
    "for i in soup.find_all('div', class_='link_tit'):\n",
    "    \n",
    "    print(a, \"위 :\" + i.get_text())\n",
    "    a=a+1"
   ]
  },
  {
   "cell_type": "code",
   "execution_count": null,
   "id": "bebc7c06",
   "metadata": {},
   "outputs": [],
   "source": []
  }
 ],
 "metadata": {
  "kernelspec": {
   "display_name": "Python 3",
   "language": "python",
   "name": "python3"
  },
  "language_info": {
   "codemirror_mode": {
    "name": "ipython",
    "version": 3
   },
   "file_extension": ".py",
   "mimetype": "text/x-python",
   "name": "python",
   "nbconvert_exporter": "python",
   "pygments_lexer": "ipython3",
   "version": "3.8.8"
  }
 },
 "nbformat": 4,
 "nbformat_minor": 5
}
